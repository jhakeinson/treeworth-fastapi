{
 "cells": [
  {
   "cell_type": "markdown",
   "metadata": {},
   "source": [
    "Load and flatten city-trees.json"
   ]
  },
  {
   "cell_type": "code",
   "execution_count": null,
   "metadata": {},
   "outputs": [],
   "source": [
    "import json\n",
    "\n",
    "def flatten_json(input_json):\n",
    "    result = {}\n",
    "\n",
    "    # Helper function to traverse and flatten the JSON\n",
    "    def traverse(current, parent_key):\n",
    "        if isinstance(current, dict):\n",
    "            for key, value in current.items():\n",
    "                traverse(value, f\"{parent_key} {key}\".strip())\n",
    "        elif isinstance(current, int):\n",
    "            # When an integer is reached, store it in the result\n",
    "            parent_key_parts = parent_key.split()\n",
    "            if len(parent_key_parts) >= 2:\n",
    "                category = parent_key_parts[0]  # e.g., \"short\" or \"tall\"\n",
    "                street_name = \" \".join(parent_key_parts[1:])\n",
    "                result.setdefault(category, {})[street_name] = current\n",
    "\n",
    "    # Start traversal\n",
    "    for main_key, sub_json in input_json.items():\n",
    "        traverse(sub_json, main_key)\n",
    "\n",
    "    return result\n",
    "\n",
    "# Load the JSON File\n",
    "with open(\"data/city-trees.json\", \"r\") as file:\n",
    "    input_json = json.load(file)\n",
    "\n",
    "# Call the function\n",
    "flattened_json = flatten_json(input_json)\n",
    "\n",
    "# pretty print the result\n",
    "print(json.dumps(flattened_json, indent=4))\n"
   ]
  },
  {
   "cell_type": "markdown",
   "metadata": {},
   "source": [
    "check if city-trees.json data is consistent and correct"
   ]
  },
  {
   "cell_type": "code",
   "execution_count": null,
   "metadata": {},
   "outputs": [],
   "source": [
    "# get min and max values for each categorry\n",
    "short_min_val = min(flattened_json[\"short\"].values())\n",
    "short_max_val = max(flattened_json[\"short\"].values())\n",
    "tall_min_val = min(flattened_json[\"tall\"].values())\n",
    "tall_max_val = max(flattened_json[\"tall\"].values())\n",
    "\n",
    "print('short_min_val', short_min_val)\n",
    "print('short_max_val', short_max_val)\n",
    "print('tall_min_val', tall_min_val)\n",
    "print('tall_max_val', tall_max_val)\n",
    "\n",
    "# make sure the data is correct by checking each item\n",
    "for key, value in flattened_json.items():\n",
    "    for sub_key, sub_value in value.items():\n",
    "        if key == \"short\" and (sub_value < short_min_val or sub_value > short_max_val):\n",
    "            print(f\"short value out of range {sub_key} {sub_value}\")\n",
    "        if key == \"tall\" and (sub_value < tall_min_val or sub_value > tall_max_val):\n",
    "            print(f\"tall value out of range {sub_key} {sub_value}\") "
   ]
  },
  {
   "cell_type": "markdown",
   "metadata": {},
   "source": [
    "Load and analyze *property-data.csv*"
   ]
  },
  {
   "cell_type": "code",
   "execution_count": 30,
   "metadata": {},
   "outputs": [
    {
     "name": "stdout",
     "output_type": "stream",
     "text": [
      "79500.0\n"
     ]
    }
   ],
   "source": [
    "import pandas as pd\n",
    "import re\n",
    "\n",
    "def convert_to_float(s):\n",
    "    s = re.sub(r'[^0-9.]', '', s)\n",
    "    f = round(float(s), 2)\n",
    "    return f\n",
    "\n",
    "# Load the data/property-data.csv\n",
    "property_data = pd.read_csv(\"data/property-data.csv\", encoding=\"latin1\")\n",
    "\n",
    " # print the data frame properly\n",
    "property_data\n",
    "\n",
    "# check for null or empty values.\n",
    "# if any null or empty values are found, throw an error\n",
    "if property_data.isnull().values.any():\n",
    "    raise ValueError(\"Null found in property-data.csv\")\n",
    "if property_data.empty:\n",
    "    raise ValueError(\"Empty dataframe found in property-data.csv\")\n",
    "\n",
    "# check if Price is a float.\n",
    "# if not, convert it to a float with precision of 2\n",
    "if not property_data[\"Price\"].dtype == float:\n",
    "    property_data[\"Price\"] = property_data[\"Price\"].apply(convert_to_float)\n",
    "\n",
    "# check if Price is a float.\n",
    "# if not, throw an error\n",
    "if not property_data[\"Price\"].dtype == float:\n",
    "    raise ValueError(\"Price is not a float\")\n",
    "\n",
    "print(property_data[\"Price\"][0])"
   ]
  }
 ],
 "metadata": {
  "kernelspec": {
   "display_name": ".venv",
   "language": "python",
   "name": "python3"
  },
  "language_info": {
   "codemirror_mode": {
    "name": "ipython",
    "version": 3
   },
   "file_extension": ".py",
   "mimetype": "text/x-python",
   "name": "python",
   "nbconvert_exporter": "python",
   "pygments_lexer": "ipython3",
   "version": "3.13.0"
  }
 },
 "nbformat": 4,
 "nbformat_minor": 2
}
